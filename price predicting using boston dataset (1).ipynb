{
 "cells": [
  {
   "cell_type": "code",
   "execution_count": 33,
   "id": "ff5361ed",
   "metadata": {},
   "outputs": [
    {
     "data": {
      "text/html": [
       "<div>\n",
       "<style scoped>\n",
       "    .dataframe tbody tr th:only-of-type {\n",
       "        vertical-align: middle;\n",
       "    }\n",
       "\n",
       "    .dataframe tbody tr th {\n",
       "        vertical-align: top;\n",
       "    }\n",
       "\n",
       "    .dataframe thead th {\n",
       "        text-align: right;\n",
       "    }\n",
       "</style>\n",
       "<table border=\"1\" class=\"dataframe\">\n",
       "  <thead>\n",
       "    <tr style=\"text-align: right;\">\n",
       "      <th></th>\n",
       "      <th>RM</th>\n",
       "      <th>LSTAT</th>\n",
       "      <th>PTRATIO</th>\n",
       "      <th>MEDV</th>\n",
       "    </tr>\n",
       "  </thead>\n",
       "  <tbody>\n",
       "    <tr>\n",
       "      <th>0</th>\n",
       "      <td>6.575</td>\n",
       "      <td>4.98</td>\n",
       "      <td>15.3</td>\n",
       "      <td>504000.0</td>\n",
       "    </tr>\n",
       "    <tr>\n",
       "      <th>1</th>\n",
       "      <td>6.421</td>\n",
       "      <td>9.14</td>\n",
       "      <td>17.8</td>\n",
       "      <td>453600.0</td>\n",
       "    </tr>\n",
       "    <tr>\n",
       "      <th>2</th>\n",
       "      <td>7.185</td>\n",
       "      <td>4.03</td>\n",
       "      <td>17.8</td>\n",
       "      <td>728700.0</td>\n",
       "    </tr>\n",
       "    <tr>\n",
       "      <th>3</th>\n",
       "      <td>6.998</td>\n",
       "      <td>2.94</td>\n",
       "      <td>18.7</td>\n",
       "      <td>701400.0</td>\n",
       "    </tr>\n",
       "    <tr>\n",
       "      <th>4</th>\n",
       "      <td>7.147</td>\n",
       "      <td>5.33</td>\n",
       "      <td>18.7</td>\n",
       "      <td>760200.0</td>\n",
       "    </tr>\n",
       "    <tr>\n",
       "      <th>...</th>\n",
       "      <td>...</td>\n",
       "      <td>...</td>\n",
       "      <td>...</td>\n",
       "      <td>...</td>\n",
       "    </tr>\n",
       "    <tr>\n",
       "      <th>484</th>\n",
       "      <td>6.593</td>\n",
       "      <td>9.67</td>\n",
       "      <td>21.0</td>\n",
       "      <td>470400.0</td>\n",
       "    </tr>\n",
       "    <tr>\n",
       "      <th>485</th>\n",
       "      <td>6.120</td>\n",
       "      <td>9.08</td>\n",
       "      <td>21.0</td>\n",
       "      <td>432600.0</td>\n",
       "    </tr>\n",
       "    <tr>\n",
       "      <th>486</th>\n",
       "      <td>6.976</td>\n",
       "      <td>5.64</td>\n",
       "      <td>21.0</td>\n",
       "      <td>501900.0</td>\n",
       "    </tr>\n",
       "    <tr>\n",
       "      <th>487</th>\n",
       "      <td>6.794</td>\n",
       "      <td>6.48</td>\n",
       "      <td>21.0</td>\n",
       "      <td>462000.0</td>\n",
       "    </tr>\n",
       "    <tr>\n",
       "      <th>488</th>\n",
       "      <td>6.030</td>\n",
       "      <td>7.88</td>\n",
       "      <td>21.0</td>\n",
       "      <td>249900.0</td>\n",
       "    </tr>\n",
       "  </tbody>\n",
       "</table>\n",
       "<p>489 rows × 4 columns</p>\n",
       "</div>"
      ],
      "text/plain": [
       "        RM  LSTAT  PTRATIO      MEDV\n",
       "0    6.575   4.98     15.3  504000.0\n",
       "1    6.421   9.14     17.8  453600.0\n",
       "2    7.185   4.03     17.8  728700.0\n",
       "3    6.998   2.94     18.7  701400.0\n",
       "4    7.147   5.33     18.7  760200.0\n",
       "..     ...    ...      ...       ...\n",
       "484  6.593   9.67     21.0  470400.0\n",
       "485  6.120   9.08     21.0  432600.0\n",
       "486  6.976   5.64     21.0  501900.0\n",
       "487  6.794   6.48     21.0  462000.0\n",
       "488  6.030   7.88     21.0  249900.0\n",
       "\n",
       "[489 rows x 4 columns]"
      ]
     },
     "execution_count": 33,
     "metadata": {},
     "output_type": "execute_result"
    }
   ],
   "source": [
    "import numpy as np\n",
    "import pandas as pd\n",
    "from sklearn.model_selection import ShuffleSplit\n",
    "# Pretty display for notebooks\n",
    "%matplotlib inline\n",
    "\n",
    "# Load the Boston housing dataset\n",
    "data = pd.read_csv('https://raw.githubusercontent.com/rromanss23/Machine_Leaning_Engineer_Udacity_NanoDegree/master/projects/boston_housing/housing.csv')\n",
    "data"
   ]
  },
  {
   "cell_type": "code",
   "execution_count": 34,
   "id": "63208adb",
   "metadata": {},
   "outputs": [
    {
     "data": {
      "text/plain": [
       "(489, 4)"
      ]
     },
     "execution_count": 34,
     "metadata": {},
     "output_type": "execute_result"
    }
   ],
   "source": [
    "prices = data['MEDV']\n",
    "features = data.drop('MEDV', axis = 1)\n",
    "# Success\n",
    "data.shape"
   ]
  },
  {
   "cell_type": "markdown",
   "id": "f64f4ae8",
   "metadata": {},
   "source": [
    "# data exploration\n"
   ]
  },
  {
   "cell_type": "code",
   "execution_count": 35,
   "id": "5eae6960",
   "metadata": {},
   "outputs": [],
   "source": [
    "###In this first section of this project, I will make a cursory investigation about the Boston housing data and provide my observations.\n",
    "\n",
    "##Since the main goal of this project is to construct a working model which has the capability of predicting the value of houses, we will need to separate the dataset into features and the target variable. The features, 'RM', 'LSTAT', and 'PTRATIO', give us quantitative information about each data point. The target variable, 'MEDV', will be the variable we seek to predict. These are stored in features and prices, respectively."
   ]
  },
  {
   "cell_type": "code",
   "execution_count": 36,
   "id": "c3ac7404",
   "metadata": {},
   "outputs": [
    {
     "data": {
      "text/plain": [
       "105000.0"
      ]
     },
     "execution_count": 36,
     "metadata": {},
     "output_type": "execute_result"
    }
   ],
   "source": [
    "np.amin(prices)"
   ]
  },
  {
   "cell_type": "code",
   "execution_count": 37,
   "id": "6c813cd0",
   "metadata": {},
   "outputs": [],
   "source": [
    "# Minimum price of the data\n",
    "minimum_price = np.amin(prices)\n",
    "\n",
    "# Maximum price of the data\n",
    "maximum_price = np.amax(prices)\n",
    "\n",
    "# Mean price of the data\n",
    "mean_price = np.mean(prices)\n",
    "\n",
    "# Median price of the data\n",
    "median_price = np.median(prices)\n",
    "\n",
    "# Standard deviation of prices of the data\n",
    "std_price = np.std(prices)"
   ]
  },
  {
   "cell_type": "code",
   "execution_count": 38,
   "id": "a54b2b25",
   "metadata": {},
   "outputs": [
    {
     "name": "stdout",
     "output_type": "stream",
     "text": [
      "Statistics for Boston housing dataset:\n",
      "\n",
      "Minimum price: $105000.0\n",
      "Maximum price: $1024800.0\n",
      "Mean price: $454342.9447852761\n",
      "Median price $438900.0\n",
      "Standard deviation of prices: $165171.13154429477\n"
     ]
    }
   ],
   "source": [
    "# Show the calculated statistics\n",
    "print(\"Statistics for Boston housing dataset:\\n\")\n",
    "print(\"Minimum price: ${}\".format(minimum_price)) \n",
    "print(\"Maximum price: ${}\".format(maximum_price))\n",
    "print(\"Mean price: ${}\".format(mean_price))\n",
    "print(\"Median price ${}\".format(median_price))\n",
    "print(\"Standard deviation of prices: ${}\".format(std_price))"
   ]
  },
  {
   "cell_type": "markdown",
   "id": "c8310d56",
   "metadata": {},
   "source": [
    "# feature observation"
   ]
  },
  {
   "cell_type": "code",
   "execution_count": 39,
   "id": "a65c66bb",
   "metadata": {},
   "outputs": [],
   "source": [
    "### As a reminder, we are using three features from the Boston housing dataset: 'RM', 'LSTAT', and 'PTRATIO'. For each data point (neighborhood):\n",
    "\n",
    "###'RM' is the average number of rooms among homes in the neighborhood.\n",
    "###'LSTAT' is the percentage of homeowners in the neighborhood considered \"lower class\" (working poor).\n",
    "###'PTRATIO' is the ratio of students to teachers in primary and secondary schools in the neighborhood"
   ]
  },
  {
   "cell_type": "markdown",
   "id": "b1b6dbcd",
   "metadata": {},
   "source": [
    "# developing a model"
   ]
  },
  {
   "cell_type": "code",
   "execution_count": 40,
   "id": "81afc49f",
   "metadata": {},
   "outputs": [],
   "source": [
    "### In this second section of the project, I will develop the tools and techniques necessary for a model to make a prediction. Being able to make accurate evaluations of each model's performance through the use of these tools and techniques helps to greatly reinforce the confidence in your predictions."
   ]
  },
  {
   "cell_type": "code",
   "execution_count": 41,
   "id": "f42965ac",
   "metadata": {},
   "outputs": [],
   "source": [
    "## implementation: define a performance metrics\n"
   ]
  },
  {
   "cell_type": "code",
   "execution_count": 42,
   "id": "b17f601d",
   "metadata": {},
   "outputs": [],
   "source": [
    "# Import 'r2_score'\n",
    "\n",
    "from sklearn.metrics import r2_score\n",
    "\n",
    "def performance_metric(y_true, y_predict):\n",
    "   # TODO: Calculate the performance score between 'y_true' and 'y_predict'\n",
    "    score = r2_score(y_true, y_predict)\n",
    "    \n",
    "    # Return the score\n",
    "    return score"
   ]
  },
  {
   "cell_type": "markdown",
   "id": "2f97cdc4",
   "metadata": {},
   "source": [
    "# implementation : shuffle and split data"
   ]
  },
  {
   "cell_type": "code",
   "execution_count": 43,
   "id": "d0b0049c",
   "metadata": {},
   "outputs": [
    {
     "name": "stdout",
     "output_type": "stream",
     "text": [
      "Training and testing split was successful.\n"
     ]
    }
   ],
   "source": [
    "from sklearn.model_selection import train_test_split\n",
    "\n",
    "# Shuffle and split the data into training and testing subsets\n",
    "X_train, X_test, y_train, y_test = train_test_split(features, prices, test_size=0.2, random_state = 42)\n",
    "\n",
    "# Success\n",
    "print(\"Training and testing split was successful.\")"
   ]
  },
  {
   "cell_type": "code",
   "execution_count": 50,
   "id": "014c2c68",
   "metadata": {},
   "outputs": [
    {
     "name": "stdout",
     "output_type": "stream",
     "text": [
      "Requirement already satisfied: visualpython in c:\\users\\pratyay\\anaconda3\\lib\\site-packages (2.0.2)\n",
      "Note: you may need to restart the kernel to use updated packages.\n"
     ]
    }
   ],
   "source": [
    "pip install visualpython"
   ]
  },
  {
   "cell_type": "code",
   "execution_count": 52,
   "id": "61e3707d",
   "metadata": {},
   "outputs": [
    {
     "data": {
      "image/png": "[encoded data removed]",
      "text/plain": [
       "<Figure size 720x1440 with 4 Axes>"
      ]
     },
     "metadata": {
      "needs_background": "light"
     },
     "output_type": "display_data"
    }
   ],
   "source": [
    "import seaborn as sns\n",
    "_ = data.hist(bins=65, figsize=(10,20))"
   ]
  },
  {
   "cell_type": "code",
   "execution_count": null,
   "id": "48912171",
   "metadata": {},
   "outputs": [],
   "source": []
  },
  {
   "cell_type": "code",
   "execution_count": 58,
   "id": "491b7c83",
   "metadata": {},
   "outputs": [
    {
     "name": "stdout",
     "output_type": "stream",
     "text": [
      "Requirement already satisfied: vpython in c:\\users\\pratyay\\anaconda3\\lib\\site-packages (7.6.3)\n",
      "Requirement already satisfied: numpy in c:\\users\\pratyay\\anaconda3\\lib\\site-packages (from vpython) (1.20.1)\n",
      "Requirement already satisfied: autobahn>=18.8.2 in c:\\users\\pratyay\\anaconda3\\lib\\site-packages (from vpython) (22.1.1)\n",
      "Requirement already satisfied: ipykernel in c:\\users\\pratyay\\anaconda3\\lib\\site-packages (from vpython) (5.3.4)\n",
      "Requirement already satisfied: jupyter-server-proxy in c:\\users\\pratyay\\anaconda3\\lib\\site-packages (from vpython) (3.2.1)\n",
      "Requirement already satisfied: jupyter in c:\\users\\pratyay\\anaconda3\\lib\\site-packages (from vpython) (1.0.0)\n",
      "Requirement already satisfied: hyperlink>=21.0.0 in c:\\users\\pratyay\\anaconda3\\lib\\site-packages (from autobahn>=18.8.2->vpython) (21.0.0)\n",
      "Requirement already satisfied: setuptools in c:\\users\\pratyay\\anaconda3\\lib\\site-packages (from autobahn>=18.8.2->vpython) (52.0.0.post20210125)\n",
      "Requirement already satisfied: cryptography>=3.4.6 in c:\\users\\pratyay\\anaconda3\\lib\\site-packages (from autobahn>=18.8.2->vpython) (3.4.7)\n",
      "Requirement already satisfied: txaio>=21.2.1 in c:\\users\\pratyay\\anaconda3\\lib\\site-packages (from autobahn>=18.8.2->vpython) (21.2.1)\n",
      "Requirement already satisfied: cffi>=1.12 in c:\\users\\pratyay\\anaconda3\\lib\\site-packages (from cryptography>=3.4.6->autobahn>=18.8.2->vpython) (1.14.5)\n",
      "Requirement already satisfied: pycparser in c:\\users\\pratyay\\anaconda3\\lib\\site-packages (from cffi>=1.12->cryptography>=3.4.6->autobahn>=18.8.2->vpython) (2.20)\n",
      "Requirement already satisfied: idna>=2.5 in c:\\users\\pratyay\\anaconda3\\lib\\site-packages (from hyperlink>=21.0.0->autobahn>=18.8.2->vpython) (2.10)\n",
      "Requirement already satisfied: traitlets>=4.1.0 in c:\\users\\pratyay\\anaconda3\\lib\\site-packages (from ipykernel->vpython) (5.0.5)\n",
      "Requirement already satisfied: tornado>=4.2 in c:\\users\\pratyay\\anaconda3\\lib\\site-packages (from ipykernel->vpython) (6.1)\n",
      "Requirement already satisfied: jupyter-client in c:\\users\\pratyay\\anaconda3\\lib\\site-packages (from ipykernel->vpython) (6.1.12)\n",
      "Requirement already satisfied: ipython>=5.0.0 in c:\\users\\pratyay\\anaconda3\\lib\\site-packages (from ipykernel->vpython) (7.22.0)\n",
      "Requirement already satisfied: backcall in c:\\users\\pratyay\\anaconda3\\lib\\site-packages (from ipython>=5.0.0->ipykernel->vpython) (0.2.0)\n",
      "Requirement already satisfied: pickleshare in c:\\users\\pratyay\\anaconda3\\lib\\site-packages (from ipython>=5.0.0->ipykernel->vpython) (0.7.5)\n",
      "Requirement already satisfied: colorama in c:\\users\\pratyay\\anaconda3\\lib\\site-packages (from ipython>=5.0.0->ipykernel->vpython) (0.4.4)\n",
      "Requirement already satisfied: prompt-toolkit!=3.0.0,!=3.0.1,<3.1.0,>=2.0.0 in c:\\users\\pratyay\\anaconda3\\lib\\site-packages (from ipython>=5.0.0->ipykernel->vpython) (3.0.17)\n",
      "Requirement already satisfied: decorator in c:\\users\\pratyay\\anaconda3\\lib\\site-packages (from ipython>=5.0.0->ipykernel->vpython) (5.0.6)\n",
      "Requirement already satisfied: pygments in c:\\users\\pratyay\\anaconda3\\lib\\site-packages (from ipython>=5.0.0->ipykernel->vpython) (2.8.1)\n",
      "Requirement already satisfied: jedi>=0.16 in c:\\users\\pratyay\\anaconda3\\lib\\site-packages (from ipython>=5.0.0->ipykernel->vpython) (0.17.2)\n",
      "Requirement already satisfied: parso<0.8.0,>=0.7.0 in c:\\users\\pratyay\\anaconda3\\lib\\site-packages (from jedi>=0.16->ipython>=5.0.0->ipykernel->vpython) (0.7.0)\n",
      "Requirement already satisfied: wcwidth in c:\\users\\pratyay\\anaconda3\\lib\\site-packages (from prompt-toolkit!=3.0.0,!=3.0.1,<3.1.0,>=2.0.0->ipython>=5.0.0->ipykernel->vpython) (0.2.5)\n",
      "Requirement already satisfied: ipython-genutils in c:\\users\\pratyay\\anaconda3\\lib\\site-packages (from traitlets>=4.1.0->ipykernel->vpython) (0.2.0)\n",
      "Requirement already satisfied: notebook in c:\\users\\pratyay\\anaconda3\\lib\\site-packages (from jupyter->vpython) (6.3.0)\n",
      "Requirement already satisfied: ipywidgets in c:\\users\\pratyay\\anaconda3\\lib\\site-packages (from jupyter->vpython) (7.6.3)\n",
      "Requirement already satisfied: qtconsole in c:\\users\\pratyay\\anaconda3\\lib\\site-packages (from jupyter->vpython) (5.0.3)\n",
      "Requirement already satisfied: nbconvert in c:\\users\\pratyay\\anaconda3\\lib\\site-packages (from jupyter->vpython) (6.0.7)\n",
      "Requirement already satisfied: jupyter-console in c:\\users\\pratyay\\anaconda3\\lib\\site-packages (from jupyter->vpython) (6.4.0)\n",
      "Requirement already satisfied: nbformat>=4.2.0 in c:\\users\\pratyay\\anaconda3\\lib\\site-packages (from ipywidgets->jupyter->vpython) (5.1.3)\n",
      "Requirement already satisfied: jupyterlab-widgets>=1.0.0 in c:\\users\\pratyay\\anaconda3\\lib\\site-packages (from ipywidgets->jupyter->vpython) (1.0.0)\n",
      "Requirement already satisfied: widgetsnbextension~=3.5.0 in c:\\users\\pratyay\\anaconda3\\lib\\site-packages (from ipywidgets->jupyter->vpython) (3.5.1)\n",
      "Requirement already satisfied: jupyter-core in c:\\users\\pratyay\\anaconda3\\lib\\site-packages (from nbformat>=4.2.0->ipywidgets->jupyter->vpython) (4.7.1)\n",
      "Requirement already satisfied: jsonschema!=2.5.0,>=2.4 in c:\\users\\pratyay\\anaconda3\\lib\\site-packages (from nbformat>=4.2.0->ipywidgets->jupyter->vpython) (3.2.0)\n",
      "Requirement already satisfied: attrs>=17.4.0 in c:\\users\\pratyay\\anaconda3\\lib\\site-packages (from jsonschema!=2.5.0,>=2.4->nbformat>=4.2.0->ipywidgets->jupyter->vpython) (20.3.0)\n",
      "Requirement already satisfied: pyrsistent>=0.14.0 in c:\\users\\pratyay\\anaconda3\\lib\\site-packages (from jsonschema!=2.5.0,>=2.4->nbformat>=4.2.0->ipywidgets->jupyter->vpython) (0.17.3)\n",
      "Requirement already satisfied: six>=1.11.0 in c:\\users\\pratyay\\anaconda3\\lib\\site-packages (from jsonschema!=2.5.0,>=2.4->nbformat>=4.2.0->ipywidgets->jupyter->vpython) (1.15.0)\n",
      "Requirement already satisfied: terminado>=0.8.3 in c:\\users\\pratyay\\anaconda3\\lib\\site-packages (from notebook->jupyter->vpython) (0.9.4)\n",
      "Requirement already satisfied: pyzmq>=17 in c:\\users\\pratyay\\anaconda3\\lib\\site-packages (from notebook->jupyter->vpython) (20.0.0)\n",
      "Requirement already satisfied: prometheus-client in c:\\users\\pratyay\\anaconda3\\lib\\site-packages (from notebook->jupyter->vpython) (0.10.1)\n",
      "Requirement already satisfied: argon2-cffi in c:\\users\\pratyay\\anaconda3\\lib\\site-packages (from notebook->jupyter->vpython) (20.1.0)\n",
      "Requirement already satisfied: Send2Trash>=1.5.0 in c:\\users\\pratyay\\anaconda3\\lib\\site-packages (from notebook->jupyter->vpython) (1.5.0)\n",
      "Requirement already satisfied: jinja2 in c:\\users\\pratyay\\anaconda3\\lib\\site-packages (from notebook->jupyter->vpython) (2.11.3)\n",
      "Requirement already satisfied: python-dateutil>=2.1 in c:\\users\\pratyay\\anaconda3\\lib\\site-packages (from jupyter-client->ipykernel->vpython) (2.8.1)\n",
      "Requirement already satisfied: pywin32>=1.0 in c:\\users\\pratyay\\anaconda3\\lib\\site-packages (from jupyter-core->nbformat>=4.2.0->ipywidgets->jupyter->vpython) (227)\n",
      "Requirement already satisfied: pywinpty>=0.5 in c:\\users\\pratyay\\anaconda3\\lib\\site-packages (from terminado>=0.8.3->notebook->jupyter->vpython) (0.5.7)\n",
      "Requirement already satisfied: MarkupSafe>=0.23 in c:\\users\\pratyay\\anaconda3\\lib\\site-packages (from jinja2->notebook->jupyter->vpython) (1.1.1)\n",
      "Requirement already satisfied: simpervisor>=0.4 in c:\\users\\pratyay\\anaconda3\\lib\\site-packages (from jupyter-server-proxy->vpython) (0.4)\n",
      "Requirement already satisfied: jupyter-server>=1.0 in c:\\users\\pratyay\\anaconda3\\lib\\site-packages (from jupyter-server-proxy->vpython) (1.4.1)\n",
      "Requirement already satisfied: aiohttp in c:\\users\\pratyay\\anaconda3\\lib\\site-packages (from jupyter-server-proxy->vpython) (3.8.1)\n",
      "Requirement already satisfied: anyio>=2.0.2 in c:\\users\\pratyay\\anaconda3\\lib\\site-packages (from jupyter-server>=1.0->jupyter-server-proxy->vpython) (2.2.0)\n",
      "Requirement already satisfied: sniffio>=1.1 in c:\\users\\pratyay\\anaconda3\\lib\\site-packages (from anyio>=2.0.2->jupyter-server>=1.0->jupyter-server-proxy->vpython) (1.2.0)\n",
      "Requirement already satisfied: charset-normalizer<3.0,>=2.0 in c:\\users\\pratyay\\anaconda3\\lib\\site-packages (from aiohttp->jupyter-server-proxy->vpython) (2.0.12)\n",
      "Requirement already satisfied: async-timeout<5.0,>=4.0.0a3 in c:\\users\\pratyay\\anaconda3\\lib\\site-packages (from aiohttp->jupyter-server-proxy->vpython) (4.0.2)\n",
      "Requirement already satisfied: yarl<2.0,>=1.0 in c:\\users\\pratyay\\anaconda3\\lib\\site-packages (from aiohttp->jupyter-server-proxy->vpython) (1.7.2)\n",
      "Requirement already satisfied: frozenlist>=1.1.1 in c:\\users\\pratyay\\anaconda3\\lib\\site-packages (from aiohttp->jupyter-server-proxy->vpython) (1.3.0)\n",
      "Requirement already satisfied: aiosignal>=1.1.2 in c:\\users\\pratyay\\anaconda3\\lib\\site-packages (from aiohttp->jupyter-server-proxy->vpython) (1.2.0)\n",
      "Requirement already satisfied: multidict<7.0,>=4.5 in c:\\users\\pratyay\\anaconda3\\lib\\site-packages (from aiohttp->jupyter-server-proxy->vpython) (6.0.2)\n",
      "Requirement already satisfied: pandocfilters>=1.4.1 in c:\\users\\pratyay\\anaconda3\\lib\\site-packages (from nbconvert->jupyter->vpython) (1.4.3)\n",
      "Requirement already satisfied: entrypoints>=0.2.2 in c:\\users\\pratyay\\anaconda3\\lib\\site-packages (from nbconvert->jupyter->vpython) (0.3)\n",
      "Requirement already satisfied: defusedxml in c:\\users\\pratyay\\anaconda3\\lib\\site-packages (from nbconvert->jupyter->vpython) (0.7.1)\n",
      "Requirement already satisfied: jupyterlab-pygments in c:\\users\\pratyay\\anaconda3\\lib\\site-packages (from nbconvert->jupyter->vpython) (0.1.2)\n",
      "Requirement already satisfied: testpath in c:\\users\\pratyay\\anaconda3\\lib\\site-packages (from nbconvert->jupyter->vpython) (0.4.4)\n",
      "Requirement already satisfied: nbclient<0.6.0,>=0.5.0 in c:\\users\\pratyay\\anaconda3\\lib\\site-packages (from nbconvert->jupyter->vpython) (0.5.3)\n",
      "Requirement already satisfied: mistune<2,>=0.8.1 in c:\\users\\pratyay\\anaconda3\\lib\\site-packages (from nbconvert->jupyter->vpython) (0.8.4)\n",
      "Requirement already satisfied: bleach in c:\\users\\pratyay\\anaconda3\\lib\\site-packages (from nbconvert->jupyter->vpython) (3.3.0)\n",
      "Requirement already satisfied: async-generator in c:\\users\\pratyay\\anaconda3\\lib\\site-packages (from nbclient<0.6.0,>=0.5.0->nbconvert->jupyter->vpython) (1.10)\n",
      "Requirement already satisfied: nest-asyncio in c:\\users\\pratyay\\anaconda3\\lib\\site-packages (from nbclient<0.6.0,>=0.5.0->nbconvert->jupyter->vpython) (1.5.1)\n",
      "Requirement already satisfied: webencodings in c:\\users\\pratyay\\anaconda3\\lib\\site-packages (from bleach->nbconvert->jupyter->vpython) (0.5.1)\n",
      "Requirement already satisfied: packaging in c:\\users\\pratyay\\anaconda3\\lib\\site-packages (from bleach->nbconvert->jupyter->vpython) (20.9)\n",
      "Requirement already satisfied: pyparsing>=2.0.2 in c:\\users\\pratyay\\anaconda3\\lib\\site-packages (from packaging->bleach->nbconvert->jupyter->vpython) (2.4.7)\n",
      "Requirement already satisfied: qtpy in c:\\users\\pratyay\\anaconda3\\lib\\site-packages (from qtconsole->jupyter->vpython) (1.9.0)\n",
      "Note: you may need to restart the kernel to use updated packages.\n"
     ]
    }
   ],
   "source": [
    " pip install vpython "
   ]
  },
  {
   "cell_type": "code",
   "execution_count": 83,
   "id": "b165dae5",
   "metadata": {},
   "outputs": [],
   "source": [
    "from sklearn.model_selection import learning_curve"
   ]
  },
  {
   "cell_type": "markdown",
   "id": "cfe10948",
   "metadata": {},
   "source": [
    "# implementation:fitting a model"
   ]
  },
  {
   "cell_type": "code",
   "execution_count": 84,
   "id": "a1605185",
   "metadata": {},
   "outputs": [],
   "source": [
    "from sklearn.tree import DecisionTreeRegressor\n",
    "from sklearn.metrics import make_scorer\n",
    "from sklearn.model_selection import GridSearchCV\n",
    "\n",
    "def fit_model(X, y):\n",
    "    \"\"\" Performs grid search over the 'max_depth' parameter for a \n",
    "        decision tree regressor trained on the input data [X, y]. \"\"\"\n",
    "    \n",
    "    # Create cross-validation sets from the training data\n",
    "    cv_sets = ShuffleSplit(n_splits = 10, test_size = 0.20, random_state = 0)\n",
    "\n",
    "    # Create a decision tree regressor object\n",
    "    regressor = DecisionTreeRegressor()\n",
    "\n",
    "    # Create a dictionary for the parameter 'max_depth' with a range from 1 to 10\n",
    "    params = {'max_depth':[1,2,3,4,5,6,7,8,9,10]}\n",
    "\n",
    "    # Transform 'performance_metric' into a scoring function using 'make_scorer' \n",
    "    scoring_fnc = make_scorer(performance_metric)\n",
    "\n",
    "    # Create the grid search cv object --> GridSearchCV()\n",
    "    # Make sure to include the right parameters in the object:\n",
    "    # (estimator, param_grid, scoring, cv) which have values 'regressor', 'params', 'scoring_fnc', and 'cv_sets' respectively.\n",
    "    grid = GridSearchCV(estimator=regressor, param_grid=params, scoring=scoring_fnc, cv=cv_sets)\n",
    "\n",
    "    # Fit the grid search object to the data to compute the optimal model\n",
    "    grid = grid.fit(X, y)\n",
    "\n",
    "    # Return the optimal model after fitting the data\n",
    "    return grid.best_estimator_"
   ]
  },
  {
   "cell_type": "markdown",
   "id": "e3f852e7",
   "metadata": {},
   "source": [
    "# making prediction"
   ]
  },
  {
   "cell_type": "code",
   "execution_count": 85,
   "id": "ff12b745",
   "metadata": {},
   "outputs": [
    {
     "name": "stdout",
     "output_type": "stream",
     "text": [
      "Parameter 'max_depth' is 4 for the optimal model.\n"
     ]
    }
   ],
   "source": [
    "# Fit the training data to the model using grid search\n",
    "reg = fit_model(X_train, y_train)\n",
    "\n",
    "# Produce the value for 'max_depth'\n",
    "print(\"Parameter 'max_depth' is {} for the optimal model.\".format(reg.get_params()['max_depth']))"
   ]
  },
  {
   "cell_type": "markdown",
   "id": "af3b7039",
   "metadata": {},
   "source": [
    "# predicting selling price"
   ]
  },
  {
   "cell_type": "code",
   "execution_count": 86,
   "id": "5feffb50",
   "metadata": {},
   "outputs": [
    {
     "name": "stdout",
     "output_type": "stream",
     "text": [
      "Predicted selling price for Client 1's home: $403,025.00\n",
      "Predicted selling price for Client 2's home: $237,478.72\n",
      "Predicted selling price for Client 3's home: $931,636.36\n"
     ]
    }
   ],
   "source": [
    "# Produce a matrix for client data\n",
    "client_data = [[5, 17, 15], # Client 1\n",
    "               [4, 32, 22], # Client 2\n",
    "               [8, 3, 12]]  # Client 3\n",
    "\n",
    "# Show predictions\n",
    "for i, price in enumerate(reg.predict(client_data)):\n",
    "    print(\"Predicted selling price for Client {}'s home: ${:,.2f}\".format(i+1, price))"
   ]
  },
  {
   "cell_type": "code",
   "execution_count": 87,
   "id": "e8458ddc",
   "metadata": {},
   "outputs": [],
   "source": [
    "import vpython as vp"
   ]
  },
  {
   "cell_type": "code",
   "execution_count": 92,
   "id": "a7e2871c",
   "metadata": {},
   "outputs": [
    {
     "name": "stdout",
     "output_type": "stream",
     "text": [
      "Requirement already satisfied: vpython in c:\\users\\pratyay\\anaconda3\\lib\\site-packages (7.6.3)Note: you may need to restart the kernel to use updated packages.\n",
      "Requirement already satisfied: autobahn>=18.8.2 in c:\\users\\pratyay\\anaconda3\\lib\\site-packages (from vpython) (22.1.1)\n",
      "Requirement already satisfied: numpy in c:\\users\\pratyay\\anaconda3\\lib\\site-packages (from vpython) (1.20.1)\n",
      "Requirement already satisfied: jupyter-server-proxy in c:\\users\\pratyay\\anaconda3\\lib\\site-packages (from vpython) (3.2.1)\n",
      "Requirement already satisfied: jupyter in c:\\users\\pratyay\\anaconda3\\lib\\site-packages (from vpython) (1.0.0)\n",
      "Requirement already satisfied: ipykernel in c:\\users\\pratyay\\anaconda3\\lib\\site-packages (from vpython) (5.3.4)\n",
      "Requirement already satisfied: hyperlink>=21.0.0 in c:\\users\\pratyay\\anaconda3\\lib\\site-packages (from autobahn>=18.8.2->vpython) (21.0.0)\n",
      "Requirement already satisfied: cryptography>=3.4.6 in c:\\users\\pratyay\\anaconda3\\lib\\site-packages (from autobahn>=18.8.2->vpython) (3.4.7)\n",
      "Requirement already satisfied: txaio>=21.2.1 in c:\\users\\pratyay\\anaconda3\\lib\\site-packages (from autobahn>=18.8.2->vpython) (21.2.1)\n",
      "Requirement already satisfied: setuptools in c:\\users\\pratyay\\anaconda3\\lib\\site-packages (from autobahn>=18.8.2->vpython) (52.0.0.post20210125)\n",
      "Requirement already satisfied: cffi>=1.12 in c:\\users\\pratyay\\anaconda3\\lib\\site-packages (from cryptography>=3.4.6->autobahn>=18.8.2->vpython) (1.14.5)\n",
      "Requirement already satisfied: pycparser in c:\\users\\pratyay\\anaconda3\\lib\\site-packages (from cffi>=1.12->cryptography>=3.4.6->autobahn>=18.8.2->vpython) (2.20)\n",
      "Requirement already satisfied: idna>=2.5 in c:\\users\\pratyay\\anaconda3\\lib\\site-packages (from hyperlink>=21.0.0->autobahn>=18.8.2->vpython) (2.10)\n",
      "Requirement already satisfied: ipython>=5.0.0 in c:\\users\\pratyay\\anaconda3\\lib\\site-packages (from ipykernel->vpython) (7.22.0)\n",
      "Requirement already satisfied: tornado>=4.2 in c:\\users\\pratyay\\anaconda3\\lib\\site-packages (from ipykernel->vpython) (6.1)\n",
      "Requirement already satisfied: jupyter-client in c:\\users\\pratyay\\anaconda3\\lib\\site-packages (from ipykernel->vpython) (6.1.12)\n",
      "Requirement already satisfied: traitlets>=4.1.0 in c:\\users\\pratyay\\anaconda3\\lib\\site-packages (from ipykernel->vpython) (5.0.5)\n",
      "Requirement already satisfied: prompt-toolkit!=3.0.0,!=3.0.1,<3.1.0,>=2.0.0 in c:\\users\\pratyay\\anaconda3\\lib\\site-packages (from ipython>=5.0.0->ipykernel->vpython) (3.0.17)\n",
      "Requirement already satisfied: decorator in c:\\users\\pratyay\\anaconda3\\lib\\site-packages (from ipython>=5.0.0->ipykernel->vpython) (5.0.6)\n",
      "Requirement already satisfied: pickleshare in c:\\users\\pratyay\\anaconda3\\lib\\site-packages (from ipython>=5.0.0->ipykernel->vpython) (0.7.5)\n",
      "Requirement already satisfied: pygments in c:\\users\\pratyay\\anaconda3\\lib\\site-packages (from ipython>=5.0.0->ipykernel->vpython) (2.8.1)\n",
      "Requirement already satisfied: backcall in c:\\users\\pratyay\\anaconda3\\lib\\site-packages (from ipython>=5.0.0->ipykernel->vpython) (0.2.0)\n",
      "Requirement already satisfied: jedi>=0.16 in c:\\users\\pratyay\\anaconda3\\lib\\site-packages (from ipython>=5.0.0->ipykernel->vpython) (0.17.2)\n",
      "Requirement already satisfied: colorama in c:\\users\\pratyay\\anaconda3\\lib\\site-packages (from ipython>=5.0.0->ipykernel->vpython) (0.4.4)\n",
      "\n",
      "Requirement already satisfied: parso<0.8.0,>=0.7.0 in c:\\users\\pratyay\\anaconda3\\lib\\site-packages (from jedi>=0.16->ipython>=5.0.0->ipykernel->vpython) (0.7.0)\n",
      "Requirement already satisfied: wcwidth in c:\\users\\pratyay\\anaconda3\\lib\\site-packages (from prompt-toolkit!=3.0.0,!=3.0.1,<3.1.0,>=2.0.0->ipython>=5.0.0->ipykernel->vpython) (0.2.5)\n",
      "Requirement already satisfied: ipython-genutils in c:\\users\\pratyay\\anaconda3\\lib\\site-packages (from traitlets>=4.1.0->ipykernel->vpython) (0.2.0)\n",
      "Requirement already satisfied: qtconsole in c:\\users\\pratyay\\anaconda3\\lib\\site-packages (from jupyter->vpython) (5.0.3)\n",
      "Requirement already satisfied: notebook in c:\\users\\pratyay\\anaconda3\\lib\\site-packages (from jupyter->vpython) (6.3.0)\n",
      "Requirement already satisfied: nbconvert in c:\\users\\pratyay\\anaconda3\\lib\\site-packages (from jupyter->vpython) (6.0.7)\n",
      "Requirement already satisfied: jupyter-console in c:\\users\\pratyay\\anaconda3\\lib\\site-packages (from jupyter->vpython) (6.4.0)\n",
      "Requirement already satisfied: ipywidgets in c:\\users\\pratyay\\anaconda3\\lib\\site-packages (from jupyter->vpython) (7.6.3)\n",
      "Requirement already satisfied: nbformat>=4.2.0 in c:\\users\\pratyay\\anaconda3\\lib\\site-packages (from ipywidgets->jupyter->vpython) (5.1.3)\n",
      "Requirement already satisfied: widgetsnbextension~=3.5.0 in c:\\users\\pratyay\\anaconda3\\lib\\site-packages (from ipywidgets->jupyter->vpython) (3.5.1)\n",
      "Requirement already satisfied: jupyterlab-widgets>=1.0.0 in c:\\users\\pratyay\\anaconda3\\lib\\site-packages (from ipywidgets->jupyter->vpython) (1.0.0)\n",
      "Requirement already satisfied: jupyter-core in c:\\users\\pratyay\\anaconda3\\lib\\site-packages (from nbformat>=4.2.0->ipywidgets->jupyter->vpython) (4.7.1)\n",
      "Requirement already satisfied: jsonschema!=2.5.0,>=2.4 in c:\\users\\pratyay\\anaconda3\\lib\\site-packages (from nbformat>=4.2.0->ipywidgets->jupyter->vpython) (3.2.0)\n",
      "Requirement already satisfied: attrs>=17.4.0 in c:\\users\\pratyay\\anaconda3\\lib\\site-packages (from jsonschema!=2.5.0,>=2.4->nbformat>=4.2.0->ipywidgets->jupyter->vpython) (20.3.0)\n",
      "Requirement already satisfied: pyrsistent>=0.14.0 in c:\\users\\pratyay\\anaconda3\\lib\\site-packages (from jsonschema!=2.5.0,>=2.4->nbformat>=4.2.0->ipywidgets->jupyter->vpython) (0.17.3)\n",
      "Requirement already satisfied: six>=1.11.0 in c:\\users\\pratyay\\anaconda3\\lib\\site-packages (from jsonschema!=2.5.0,>=2.4->nbformat>=4.2.0->ipywidgets->jupyter->vpython) (1.15.0)\n",
      "Requirement already satisfied: argon2-cffi in c:\\users\\pratyay\\anaconda3\\lib\\site-packages (from notebook->jupyter->vpython) (20.1.0)\n",
      "Requirement already satisfied: pyzmq>=17 in c:\\users\\pratyay\\anaconda3\\lib\\site-packages (from notebook->jupyter->vpython) (20.0.0)\n",
      "Requirement already satisfied: terminado>=0.8.3 in c:\\users\\pratyay\\anaconda3\\lib\\site-packages (from notebook->jupyter->vpython) (0.9.4)\n",
      "Requirement already satisfied: Send2Trash>=1.5.0 in c:\\users\\pratyay\\anaconda3\\lib\\site-packages (from notebook->jupyter->vpython) (1.5.0)\n",
      "Requirement already satisfied: jinja2 in c:\\users\\pratyay\\anaconda3\\lib\\site-packages (from notebook->jupyter->vpython) (2.11.3)\n",
      "Requirement already satisfied: prometheus-client in c:\\users\\pratyay\\anaconda3\\lib\\site-packages (from notebook->jupyter->vpython) (0.10.1)\n",
      "Requirement already satisfied: python-dateutil>=2.1 in c:\\users\\pratyay\\anaconda3\\lib\\site-packages (from jupyter-client->ipykernel->vpython) (2.8.1)\n",
      "Requirement already satisfied: pywin32>=1.0 in c:\\users\\pratyay\\anaconda3\\lib\\site-packages (from jupyter-core->nbformat>=4.2.0->ipywidgets->jupyter->vpython) (227)\n",
      "Requirement already satisfied: pywinpty>=0.5 in c:\\users\\pratyay\\anaconda3\\lib\\site-packages (from terminado>=0.8.3->notebook->jupyter->vpython) (0.5.7)\n",
      "Requirement already satisfied: MarkupSafe>=0.23 in c:\\users\\pratyay\\anaconda3\\lib\\site-packages (from jinja2->notebook->jupyter->vpython) (2.0.1)\n",
      "Requirement already satisfied: jupyter-server>=1.0 in c:\\users\\pratyay\\anaconda3\\lib\\site-packages (from jupyter-server-proxy->vpython) (1.4.1)\n",
      "Requirement already satisfied: simpervisor>=0.4 in c:\\users\\pratyay\\anaconda3\\lib\\site-packages (from jupyter-server-proxy->vpython) (0.4)\n",
      "Requirement already satisfied: aiohttp in c:\\users\\pratyay\\anaconda3\\lib\\site-packages (from jupyter-server-proxy->vpython) (3.8.1)\n",
      "Requirement already satisfied: anyio>=2.0.2 in c:\\users\\pratyay\\anaconda3\\lib\\site-packages (from jupyter-server>=1.0->jupyter-server-proxy->vpython) (2.2.0)\n",
      "Requirement already satisfied: sniffio>=1.1 in c:\\users\\pratyay\\anaconda3\\lib\\site-packages (from anyio>=2.0.2->jupyter-server>=1.0->jupyter-server-proxy->vpython) (1.2.0)\n",
      "Requirement already satisfied: async-timeout<5.0,>=4.0.0a3 in c:\\users\\pratyay\\anaconda3\\lib\\site-packages (from aiohttp->jupyter-server-proxy->vpython) (4.0.2)\n",
      "Requirement already satisfied: frozenlist>=1.1.1 in c:\\users\\pratyay\\anaconda3\\lib\\site-packages (from aiohttp->jupyter-server-proxy->vpython) (1.3.0)\n",
      "Requirement already satisfied: charset-normalizer<3.0,>=2.0 in c:\\users\\pratyay\\anaconda3\\lib\\site-packages (from aiohttp->jupyter-server-proxy->vpython) (2.0.12)\n",
      "Requirement already satisfied: multidict<7.0,>=4.5 in c:\\users\\pratyay\\anaconda3\\lib\\site-packages (from aiohttp->jupyter-server-proxy->vpython) (6.0.2)\n",
      "Requirement already satisfied: aiosignal>=1.1.2 in c:\\users\\pratyay\\anaconda3\\lib\\site-packages (from aiohttp->jupyter-server-proxy->vpython) (1.2.0)\n",
      "Requirement already satisfied: yarl<2.0,>=1.0 in c:\\users\\pratyay\\anaconda3\\lib\\site-packages (from aiohttp->jupyter-server-proxy->vpython) (1.7.2)\n",
      "Requirement already satisfied: defusedxml in c:\\users\\pratyay\\anaconda3\\lib\\site-packages (from nbconvert->jupyter->vpython) (0.7.1)\n",
      "Requirement already satisfied: jupyterlab-pygments in c:\\users\\pratyay\\anaconda3\\lib\\site-packages (from nbconvert->jupyter->vpython) (0.1.2)\n",
      "Requirement already satisfied: pandocfilters>=1.4.1 in c:\\users\\pratyay\\anaconda3\\lib\\site-packages (from nbconvert->jupyter->vpython) (1.4.3)\n",
      "Requirement already satisfied: testpath in c:\\users\\pratyay\\anaconda3\\lib\\site-packages (from nbconvert->jupyter->vpython) (0.4.4)\n",
      "Requirement already satisfied: mistune<2,>=0.8.1 in c:\\users\\pratyay\\anaconda3\\lib\\site-packages (from nbconvert->jupyter->vpython) (0.8.4)\n",
      "Requirement already satisfied: nbclient<0.6.0,>=0.5.0 in c:\\users\\pratyay\\anaconda3\\lib\\site-packages (from nbconvert->jupyter->vpython) (0.5.3)\n",
      "Requirement already satisfied: bleach in c:\\users\\pratyay\\anaconda3\\lib\\site-packages (from nbconvert->jupyter->vpython) (3.3.0)\n",
      "Requirement already satisfied: entrypoints>=0.2.2 in c:\\users\\pratyay\\anaconda3\\lib\\site-packages (from nbconvert->jupyter->vpython) (0.3)\n",
      "Requirement already satisfied: nest-asyncio in c:\\users\\pratyay\\anaconda3\\lib\\site-packages (from nbclient<0.6.0,>=0.5.0->nbconvert->jupyter->vpython) (1.5.1)\n",
      "Requirement already satisfied: async-generator in c:\\users\\pratyay\\anaconda3\\lib\\site-packages (from nbclient<0.6.0,>=0.5.0->nbconvert->jupyter->vpython) (1.10)\n",
      "Requirement already satisfied: packaging in c:\\users\\pratyay\\anaconda3\\lib\\site-packages (from bleach->nbconvert->jupyter->vpython) (20.9)\n",
      "Requirement already satisfied: webencodings in c:\\users\\pratyay\\anaconda3\\lib\\site-packages (from bleach->nbconvert->jupyter->vpython) (0.5.1)\n",
      "Requirement already satisfied: pyparsing>=2.0.2 in c:\\users\\pratyay\\anaconda3\\lib\\site-packages (from packaging->bleach->nbconvert->jupyter->vpython) (2.4.7)\n",
      "Requirement already satisfied: qtpy in c:\\users\\pratyay\\anaconda3\\lib\\site-packages (from qtconsole->jupyter->vpython) (1.9.0)\n"
     ]
    }
   ],
   "source": [
    "pip install -U vpython"
   ]
  },
  {
   "cell_type": "code",
   "execution_count": 94,
   "id": "e3715686",
   "metadata": {},
   "outputs": [
    {
     "data": {
      "image/png": "[encoded data removed]",
      "text/plain": [
       "<Figure size 432x288 with 1 Axes>"
      ]
     },
     "metadata": {
      "needs_background": "light"
     },
     "output_type": "display_data"
    }
   ],
   "source": [
    "#                         RM VS PRICES\n",
    "fig=plt.figure()\n",
    "ax=fig.add_subplot(1, 1, 1)\n",
    "ax.scatter(data['RM'], data['MEDV']) \n",
    "#Lables & Title\n",
    "plt.title(\"Average selling Prices and Average number of rooms\")\n",
    "plt.xlabel(\"RM\")\n",
    "plt.ylabel(\"Prices\")\n",
    "plt.show()"
   ]
  },
  {
   "cell_type": "code",
   "execution_count": 95,
   "id": "a4160266",
   "metadata": {},
   "outputs": [
    {
     "data": {
      "image/png": "[encoded data removed]",
      "text/plain": [
       "<Figure size 432x288 with 1 Axes>"
      ]
     },
     "metadata": {
      "needs_background": "light"
     },
     "output_type": "display_data"
    }
   ],
   "source": [
    "#                       LSTAT VS PRICES\n",
    "fig=plt.figure()\n",
    "ax=fig.add_subplot(1, 1, 1)\n",
    "ax.scatter(data['LSTAT'], data['MEDV'])  \n",
    "plt.title(\"Average selling Prices VS % of low class Homeowners\")\n",
    "plt.xlabel(\"LSTAT\")\n",
    "plt.ylabel(\"Prices\")\n",
    "plt.show()"
   ]
  },
  {
   "cell_type": "code",
   "execution_count": null,
   "id": "e2b42819",
   "metadata": {},
   "outputs": [],
   "source": []
  }
 ],
 "metadata": {
  "kernelspec": {
   "display_name": "Python 3",
   "language": "python",
   "name": "python3"
  },
  "language_info": {
   "codemirror_mode": {
    "name": "ipython",
    "version": 3
   },
   "file_extension": ".py",
   "mimetype": "text/x-python",
   "name": "python",
   "nbconvert_exporter": "python",
   "pygments_lexer": "ipython3",
   "version": "3.8.8"
  }
 },
 "nbformat": 4,
 "nbformat_minor": 5
}
