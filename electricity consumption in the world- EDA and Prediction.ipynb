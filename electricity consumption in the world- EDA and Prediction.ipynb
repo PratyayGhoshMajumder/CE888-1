{
 "cells": [
  {
   "cell_type": "code",
   "execution_count": 38,
   "id": "27c96298",
   "metadata": {},
   "outputs": [],
   "source": [
    "import numpy as np\n",
    "import pandas as pd\n",
    "import seaborn as sns\n",
    "import matplotlib.pyplot as plt"
   ]
  },
  {
   "cell_type": "code",
   "execution_count": 39,
   "id": "95d54f76",
   "metadata": {},
   "outputs": [
    {
     "data": {
      "text/html": [
       "<div>\n",
       "<style scoped>\n",
       "    .dataframe tbody tr th:only-of-type {\n",
       "        vertical-align: middle;\n",
       "    }\n",
       "\n",
       "    .dataframe tbody tr th {\n",
       "        vertical-align: top;\n",
       "    }\n",
       "\n",
       "    .dataframe thead th {\n",
       "        text-align: right;\n",
       "    }\n",
       "</style>\n",
       "<table border=\"1\" class=\"dataframe\">\n",
       "  <thead>\n",
       "    <tr style=\"text-align: right;\">\n",
       "      <th></th>\n",
       "      <th>Entity</th>\n",
       "      <th>Year</th>\n",
       "      <th>Per capita electricity (kWh)</th>\n",
       "    </tr>\n",
       "  </thead>\n",
       "  <tbody>\n",
       "    <tr>\n",
       "      <th>0</th>\n",
       "      <td>Afghanistan</td>\n",
       "      <td>2000</td>\n",
       "      <td>22.474</td>\n",
       "    </tr>\n",
       "    <tr>\n",
       "      <th>1</th>\n",
       "      <td>Afghanistan</td>\n",
       "      <td>2001</td>\n",
       "      <td>27.399</td>\n",
       "    </tr>\n",
       "    <tr>\n",
       "      <th>2</th>\n",
       "      <td>Afghanistan</td>\n",
       "      <td>2002</td>\n",
       "      <td>30.397</td>\n",
       "    </tr>\n",
       "    <tr>\n",
       "      <th>3</th>\n",
       "      <td>Afghanistan</td>\n",
       "      <td>2003</td>\n",
       "      <td>39.652</td>\n",
       "    </tr>\n",
       "    <tr>\n",
       "      <th>4</th>\n",
       "      <td>Afghanistan</td>\n",
       "      <td>2004</td>\n",
       "      <td>36.155</td>\n",
       "    </tr>\n",
       "    <tr>\n",
       "      <th>...</th>\n",
       "      <td>...</td>\n",
       "      <td>...</td>\n",
       "      <td>...</td>\n",
       "    </tr>\n",
       "    <tr>\n",
       "      <th>5615</th>\n",
       "      <td>Zimbabwe</td>\n",
       "      <td>2015</td>\n",
       "      <td>679.553</td>\n",
       "    </tr>\n",
       "    <tr>\n",
       "      <th>5616</th>\n",
       "      <td>Zimbabwe</td>\n",
       "      <td>2016</td>\n",
       "      <td>486.509</td>\n",
       "    </tr>\n",
       "    <tr>\n",
       "      <th>5617</th>\n",
       "      <td>Zimbabwe</td>\n",
       "      <td>2017</td>\n",
       "      <td>513.434</td>\n",
       "    </tr>\n",
       "    <tr>\n",
       "      <th>5618</th>\n",
       "      <td>Zimbabwe</td>\n",
       "      <td>2018</td>\n",
       "      <td>632.533</td>\n",
       "    </tr>\n",
       "    <tr>\n",
       "      <th>5619</th>\n",
       "      <td>Zimbabwe</td>\n",
       "      <td>2019</td>\n",
       "      <td>617.672</td>\n",
       "    </tr>\n",
       "  </tbody>\n",
       "</table>\n",
       "<p>5620 rows × 3 columns</p>\n",
       "</div>"
      ],
      "text/plain": [
       "           Entity  Year  Per capita electricity (kWh)\n",
       "0     Afghanistan  2000                        22.474\n",
       "1     Afghanistan  2001                        27.399\n",
       "2     Afghanistan  2002                        30.397\n",
       "3     Afghanistan  2003                        39.652\n",
       "4     Afghanistan  2004                        36.155\n",
       "...           ...   ...                           ...\n",
       "5615     Zimbabwe  2015                       679.553\n",
       "5616     Zimbabwe  2016                       486.509\n",
       "5617     Zimbabwe  2017                       513.434\n",
       "5618     Zimbabwe  2018                       632.533\n",
       "5619     Zimbabwe  2019                       617.672\n",
       "\n",
       "[5620 rows x 3 columns]"
      ]
     },
     "execution_count": 39,
     "metadata": {},
     "output_type": "execute_result"
    }
   ],
   "source": [
    "data = pd.read_csv('World_Per_Capita_Electricity_Consumption.csv')\n",
    "data"
   ]
  },
  {
   "cell_type": "code",
   "execution_count": 40,
   "id": "5d002710",
   "metadata": {},
   "outputs": [
    {
     "name": "stdout",
     "output_type": "stream",
     "text": [
      "<class 'pandas.core.frame.DataFrame'>\n",
      "RangeIndex: 5620 entries, 0 to 5619\n",
      "Data columns (total 3 columns):\n",
      " #   Column                        Non-Null Count  Dtype  \n",
      "---  ------                        --------------  -----  \n",
      " 0   Entity                        5620 non-null   object \n",
      " 1   Year                          5620 non-null   int64  \n",
      " 2   Per capita electricity (kWh)  5620 non-null   float64\n",
      "dtypes: float64(1), int64(1), object(1)\n",
      "memory usage: 131.8+ KB\n"
     ]
    }
   ],
   "source": [
    "data.info()"
   ]
  },
  {
   "cell_type": "code",
   "execution_count": 41,
   "id": "b1349ebf",
   "metadata": {},
   "outputs": [
    {
     "data": {
      "text/plain": [
       "(5620, 3)"
      ]
     },
     "execution_count": 41,
     "metadata": {},
     "output_type": "execute_result"
    }
   ],
   "source": [
    "data.shape"
   ]
  },
  {
   "cell_type": "code",
   "execution_count": 42,
   "id": "40cfb44e",
   "metadata": {},
   "outputs": [
    {
     "data": {
      "text/html": [
       "<div>\n",
       "<style scoped>\n",
       "    .dataframe tbody tr th:only-of-type {\n",
       "        vertical-align: middle;\n",
       "    }\n",
       "\n",
       "    .dataframe tbody tr th {\n",
       "        vertical-align: top;\n",
       "    }\n",
       "\n",
       "    .dataframe thead th {\n",
       "        text-align: right;\n",
       "    }\n",
       "</style>\n",
       "<table border=\"1\" class=\"dataframe\">\n",
       "  <thead>\n",
       "    <tr style=\"text-align: right;\">\n",
       "      <th></th>\n",
       "      <th>Year</th>\n",
       "      <th>Per capita electricity (kWh)</th>\n",
       "    </tr>\n",
       "  </thead>\n",
       "  <tbody>\n",
       "    <tr>\n",
       "      <th>count</th>\n",
       "      <td>5620.000000</td>\n",
       "      <td>5620.000000</td>\n",
       "    </tr>\n",
       "    <tr>\n",
       "      <th>mean</th>\n",
       "      <td>2005.826157</td>\n",
       "      <td>4095.887211</td>\n",
       "    </tr>\n",
       "    <tr>\n",
       "      <th>std</th>\n",
       "      <td>9.238193</td>\n",
       "      <td>5403.908499</td>\n",
       "    </tr>\n",
       "    <tr>\n",
       "      <th>min</th>\n",
       "      <td>1985.000000</td>\n",
       "      <td>0.000000</td>\n",
       "    </tr>\n",
       "    <tr>\n",
       "      <th>25%</th>\n",
       "      <td>2000.000000</td>\n",
       "      <td>646.116250</td>\n",
       "    </tr>\n",
       "    <tr>\n",
       "      <th>50%</th>\n",
       "      <td>2007.000000</td>\n",
       "      <td>2555.821500</td>\n",
       "    </tr>\n",
       "    <tr>\n",
       "      <th>75%</th>\n",
       "      <td>2013.000000</td>\n",
       "      <td>5561.172750</td>\n",
       "    </tr>\n",
       "    <tr>\n",
       "      <th>max</th>\n",
       "      <td>2021.000000</td>\n",
       "      <td>58863.361000</td>\n",
       "    </tr>\n",
       "  </tbody>\n",
       "</table>\n",
       "</div>"
      ],
      "text/plain": [
       "              Year  Per capita electricity (kWh)\n",
       "count  5620.000000                   5620.000000\n",
       "mean   2005.826157                   4095.887211\n",
       "std       9.238193                   5403.908499\n",
       "min    1985.000000                      0.000000\n",
       "25%    2000.000000                    646.116250\n",
       "50%    2007.000000                   2555.821500\n",
       "75%    2013.000000                   5561.172750\n",
       "max    2021.000000                  58863.361000"
      ]
     },
     "execution_count": 42,
     "metadata": {},
     "output_type": "execute_result"
    }
   ],
   "source": [
    "data.describe()"
   ]
  },
  {
   "cell_type": "code",
   "execution_count": 43,
   "id": "d089e3c1",
   "metadata": {},
   "outputs": [
    {
     "data": {
      "text/plain": [
       "Entity                          0\n",
       "Year                            0\n",
       "Per capita electricity (kWh)    0\n",
       "dtype: int64"
      ]
     },
     "execution_count": 43,
     "metadata": {},
     "output_type": "execute_result"
    }
   ],
   "source": [
    "data.isnull().sum()"
   ]
  },
  {
   "cell_type": "code",
   "execution_count": 44,
   "id": "57ebe7ec",
   "metadata": {},
   "outputs": [
    {
     "data": {
      "text/plain": [
       "array(['Afghanistan', 'Africa', 'Albania', 'Algeria', 'American Samoa',\n",
       "       'Angola', 'Antigua and Barbuda', 'Argentina', 'Armenia', 'Aruba',\n",
       "       'Australia', 'Austria', 'Azerbaijan', 'Bahamas', 'Bahrain',\n",
       "       'Bangladesh', 'Barbados', 'Belarus', 'Belgium', 'Belize', 'Benin',\n",
       "       'Bermuda', 'Bhutan', 'Bolivia', 'Bosnia and Herzegovina',\n",
       "       'Botswana', 'Brazil', 'British Virgin Islands', 'Brunei',\n",
       "       'Bulgaria', 'Burkina Faso', 'Burundi', 'Cambodia', 'Cameroon',\n",
       "       'Canada', 'Cape Verde', 'Cayman Islands',\n",
       "       'Central African Republic', 'Chad', 'Chile', 'China', 'Colombia',\n",
       "       'Comoros', 'Congo', 'Cook Islands', 'Costa Rica', 'Croatia',\n",
       "       'Cuba', 'Cyprus', 'Czechia', 'Democratic Republic of Congo',\n",
       "       'Denmark', 'Djibouti', 'Dominica', 'Dominican Republic', 'Ecuador',\n",
       "       'Egypt', 'El Salvador', 'Equatorial Guinea', 'Eritrea', 'Estonia',\n",
       "       'Ethiopia', 'Europe', 'European Union (27)', 'Falkland Islands',\n",
       "       'Fiji', 'Finland', 'France', 'French Guiana', 'French Polynesia',\n",
       "       'Gabon', 'Gambia', 'Georgia', 'Germany', 'Ghana', 'Gibraltar',\n",
       "       'Greece', 'Greenland', 'Grenada', 'Guadeloupe', 'Guam',\n",
       "       'Guatemala', 'Guinea', 'Guinea-Bissau', 'Guyana', 'Haiti',\n",
       "       'Honduras', 'Hong Kong', 'Hungary', 'Iceland', 'India',\n",
       "       'Indonesia', 'Iran', 'Iraq', 'Ireland', 'Israel', 'Italy',\n",
       "       'Jamaica', 'Japan', 'Jordan', 'Kazakhstan', 'Kenya', 'Kiribati',\n",
       "       'Kuwait', 'Kyrgyzstan', 'Laos', 'Latvia', 'Lebanon', 'Lesotho',\n",
       "       'Liberia', 'Libya', 'Lithuania', 'Luxembourg', 'Madagascar',\n",
       "       'Malawi', 'Malaysia', 'Maldives', 'Mali', 'Malta', 'Martinique',\n",
       "       'Mauritania', 'Mauritius', 'Mexico', 'Mongolia', 'Montenegro',\n",
       "       'Montserrat', 'Morocco', 'Mozambique', 'Myanmar', 'Namibia',\n",
       "       'Nauru', 'Nepal', 'Netherlands', 'Netherlands Antilles',\n",
       "       'New Caledonia', 'New Zealand', 'Nicaragua', 'Niger', 'Nigeria',\n",
       "       'Niue', 'North Korea', 'North Macedonia', 'Norway', 'Oman',\n",
       "       'Pakistan', 'Palestine', 'Panama', 'Papua New Guinea', 'Paraguay',\n",
       "       'Peru', 'Philippines', 'Poland', 'Portugal', 'Puerto Rico',\n",
       "       'Qatar', 'Reunion', 'Romania', 'Russia', 'Rwanda', 'Saint Helena',\n",
       "       'Saint Kitts and Nevis', 'Saint Lucia',\n",
       "       'Saint Pierre and Miquelon', 'Saint Vincent and the Grenadines',\n",
       "       'Samoa', 'Sao Tome and Principe', 'Saudi Arabia', 'Senegal',\n",
       "       'Serbia', 'Seychelles', 'Sierra Leone', 'Singapore', 'Slovakia',\n",
       "       'Slovenia', 'Solomon Islands', 'Somalia', 'South Africa',\n",
       "       'South Korea', 'South Sudan', 'Spain', 'Sri Lanka', 'Sudan',\n",
       "       'Suriname', 'Sweden', 'Switzerland', 'Syria', 'Taiwan',\n",
       "       'Tajikistan', 'Tanzania', 'Thailand', 'Togo', 'Tonga',\n",
       "       'Trinidad and Tobago', 'Tunisia', 'Turkey', 'Turkmenistan',\n",
       "       'Turks and Caicos Islands', 'Uganda', 'Ukraine',\n",
       "       'United Arab Emirates', 'United Kingdom', 'United States',\n",
       "       'United States Virgin Islands', 'Uruguay', 'Uzbekistan', 'Vanuatu',\n",
       "       'Venezuela', 'Vietnam', 'Western Sahara', 'World', 'Yemen',\n",
       "       'Zambia', 'Zimbabwe'], dtype=object)"
      ]
     },
     "execution_count": 44,
     "metadata": {},
     "output_type": "execute_result"
    }
   ],
   "source": [
    "data['Entity'].unique()"
   ]
  },
  {
   "cell_type": "code",
   "execution_count": 45,
   "id": "f14fc265",
   "metadata": {},
   "outputs": [
    {
     "data": {
      "text/plain": [
       "213"
      ]
     },
     "execution_count": 45,
     "metadata": {},
     "output_type": "execute_result"
    }
   ],
   "source": [
    "len(data['Entity'].unique())"
   ]
  },
  {
   "cell_type": "code",
   "execution_count": 46,
   "id": "50abc2c3",
   "metadata": {},
   "outputs": [
    {
     "data": {
      "text/plain": [
       "Latvia                  37\n",
       "Czechia                 37\n",
       "Spain                   37\n",
       "Estonia                 37\n",
       "Hungary                 37\n",
       "                        ..\n",
       "Malawi                  20\n",
       "Ethiopia                20\n",
       "Jamaica                 20\n",
       "Guyana                  20\n",
       "Netherlands Antilles    18\n",
       "Name: Entity, Length: 213, dtype: int64"
      ]
     },
     "execution_count": 46,
     "metadata": {},
     "output_type": "execute_result"
    }
   ],
   "source": [
    "data['Entity'].value_counts()"
   ]
  },
  {
   "cell_type": "code",
   "execution_count": 47,
   "id": "154f6e4d",
   "metadata": {},
   "outputs": [
    {
     "data": {
      "text/html": [
       "<div>\n",
       "<style scoped>\n",
       "    .dataframe tbody tr th:only-of-type {\n",
       "        vertical-align: middle;\n",
       "    }\n",
       "\n",
       "    .dataframe tbody tr th {\n",
       "        vertical-align: top;\n",
       "    }\n",
       "\n",
       "    .dataframe thead th {\n",
       "        text-align: right;\n",
       "    }\n",
       "</style>\n",
       "<table border=\"1\" class=\"dataframe\">\n",
       "  <thead>\n",
       "    <tr style=\"text-align: right;\">\n",
       "      <th></th>\n",
       "      <th>Entity</th>\n",
       "      <th>Year</th>\n",
       "      <th>Per capita electricity (kWh)</th>\n",
       "    </tr>\n",
       "  </thead>\n",
       "  <tbody>\n",
       "    <tr>\n",
       "      <th>2307</th>\n",
       "      <td>India</td>\n",
       "      <td>1985</td>\n",
       "      <td>237.628</td>\n",
       "    </tr>\n",
       "    <tr>\n",
       "      <th>2308</th>\n",
       "      <td>India</td>\n",
       "      <td>1986</td>\n",
       "      <td>252.723</td>\n",
       "    </tr>\n",
       "    <tr>\n",
       "      <th>2309</th>\n",
       "      <td>India</td>\n",
       "      <td>1987</td>\n",
       "      <td>272.873</td>\n",
       "    </tr>\n",
       "    <tr>\n",
       "      <th>2310</th>\n",
       "      <td>India</td>\n",
       "      <td>1988</td>\n",
       "      <td>288.136</td>\n",
       "    </tr>\n",
       "    <tr>\n",
       "      <th>2311</th>\n",
       "      <td>India</td>\n",
       "      <td>1989</td>\n",
       "      <td>318.526</td>\n",
       "    </tr>\n",
       "  </tbody>\n",
       "</table>\n",
       "</div>"
      ],
      "text/plain": [
       "     Entity  Year  Per capita electricity (kWh)\n",
       "2307  India  1985                       237.628\n",
       "2308  India  1986                       252.723\n",
       "2309  India  1987                       272.873\n",
       "2310  India  1988                       288.136\n",
       "2311  India  1989                       318.526"
      ]
     },
     "execution_count": 47,
     "metadata": {},
     "output_type": "execute_result"
    }
   ],
   "source": [
    "india_electricity_consumption = data[data['Entity']=='India']\n",
    "india_electricity_consumption.head()"
   ]
  },
  {
   "cell_type": "code",
   "execution_count": 48,
   "id": "687740f3",
   "metadata": {},
   "outputs": [
    {
     "data": {
      "image/png": "[encoded data removed]",
      "text/plain": [
       "<Figure size 720x504 with 1 Axes>"
      ]
     },
     "metadata": {
      "needs_background": "light"
     },
     "output_type": "display_data"
    }
   ],
   "source": [
    "plt.figure(figsize = (10,7))\n",
    "sns.barplot(x = 'Year',y = 'Per capita electricity (kWh)', hue = 'Entity', data = india_electricity_consumption)\n",
    "plt.xticks(rotation = 90)\n",
    "plt.title(\"India Electricity Consumption\")\n",
    "plt.show()"
   ]
  },
  {
   "cell_type": "code",
   "execution_count": 49,
   "id": "89394b54",
   "metadata": {},
   "outputs": [
    {
     "data": {
      "text/html": [
       "<div>\n",
       "<style scoped>\n",
       "    .dataframe tbody tr th:only-of-type {\n",
       "        vertical-align: middle;\n",
       "    }\n",
       "\n",
       "    .dataframe tbody tr th {\n",
       "        vertical-align: top;\n",
       "    }\n",
       "\n",
       "    .dataframe thead th {\n",
       "        text-align: right;\n",
       "    }\n",
       "</style>\n",
       "<table border=\"1\" class=\"dataframe\">\n",
       "  <thead>\n",
       "    <tr style=\"text-align: right;\">\n",
       "      <th></th>\n",
       "      <th>Entity</th>\n",
       "      <th>Year</th>\n",
       "      <th>Per capita electricity (kWh)</th>\n",
       "    </tr>\n",
       "  </thead>\n",
       "  <tbody>\n",
       "    <tr>\n",
       "      <th>1022</th>\n",
       "      <td>China</td>\n",
       "      <td>1985</td>\n",
       "      <td>381.828</td>\n",
       "    </tr>\n",
       "    <tr>\n",
       "      <th>1023</th>\n",
       "      <td>China</td>\n",
       "      <td>1986</td>\n",
       "      <td>410.524</td>\n",
       "    </tr>\n",
       "    <tr>\n",
       "      <th>1024</th>\n",
       "      <td>China</td>\n",
       "      <td>1987</td>\n",
       "      <td>445.542</td>\n",
       "    </tr>\n",
       "    <tr>\n",
       "      <th>1025</th>\n",
       "      <td>China</td>\n",
       "      <td>1988</td>\n",
       "      <td>479.211</td>\n",
       "    </tr>\n",
       "    <tr>\n",
       "      <th>1026</th>\n",
       "      <td>China</td>\n",
       "      <td>1989</td>\n",
       "      <td>504.861</td>\n",
       "    </tr>\n",
       "  </tbody>\n",
       "</table>\n",
       "</div>"
      ],
      "text/plain": [
       "     Entity  Year  Per capita electricity (kWh)\n",
       "1022  China  1985                       381.828\n",
       "1023  China  1986                       410.524\n",
       "1024  China  1987                       445.542\n",
       "1025  China  1988                       479.211\n",
       "1026  China  1989                       504.861"
      ]
     },
     "execution_count": 49,
     "metadata": {},
     "output_type": "execute_result"
    }
   ],
   "source": [
    "china_electricity_consumption = data[data['Entity'] == 'China']\n",
    "china_electricity_consumption.head()"
   ]
  },
  {
   "cell_type": "code",
   "execution_count": 50,
   "id": "91d9ae20",
   "metadata": {},
   "outputs": [
    {
     "data": {
      "image/png": "[encoded data removed]",
      "text/plain": [
       "<Figure size 720x504 with 1 Axes>"
      ]
     },
     "metadata": {
      "needs_background": "light"
     },
     "output_type": "display_data"
    }
   ],
   "source": [
    "plt.figure(figsize = (10,7))\n",
    "sns.barplot(x = 'Year', y = 'Per capita electricity (kWh)', hue = 'Entity', data = china_electricity_consumption)\n",
    "plt.xticks(rotation = 90)\n",
    "plt.title(\"China Electricity Consumption\")\n",
    "plt.show()"
   ]
  },
  {
   "cell_type": "code",
   "execution_count": 51,
   "id": "c0455130",
   "metadata": {},
   "outputs": [
    {
     "data": {
      "text/html": [
       "<div>\n",
       "<style scoped>\n",
       "    .dataframe tbody tr th:only-of-type {\n",
       "        vertical-align: middle;\n",
       "    }\n",
       "\n",
       "    .dataframe tbody tr th {\n",
       "        vertical-align: top;\n",
       "    }\n",
       "\n",
       "    .dataframe thead th {\n",
       "        text-align: right;\n",
       "    }\n",
       "</style>\n",
       "<table border=\"1\" class=\"dataframe\">\n",
       "  <thead>\n",
       "    <tr style=\"text-align: right;\">\n",
       "      <th></th>\n",
       "      <th>Entity</th>\n",
       "      <th>Year</th>\n",
       "      <th>Per capita electricity (kWh)</th>\n",
       "    </tr>\n",
       "  </thead>\n",
       "  <tbody>\n",
       "    <tr>\n",
       "      <th>5301</th>\n",
       "      <td>United States</td>\n",
       "      <td>1985</td>\n",
       "      <td>11048.449</td>\n",
       "    </tr>\n",
       "    <tr>\n",
       "      <th>5302</th>\n",
       "      <td>United States</td>\n",
       "      <td>1986</td>\n",
       "      <td>11023.556</td>\n",
       "    </tr>\n",
       "    <tr>\n",
       "      <th>5303</th>\n",
       "      <td>United States</td>\n",
       "      <td>1987</td>\n",
       "      <td>11312.686</td>\n",
       "    </tr>\n",
       "    <tr>\n",
       "      <th>5304</th>\n",
       "      <td>United States</td>\n",
       "      <td>1988</td>\n",
       "      <td>11781.619</td>\n",
       "    </tr>\n",
       "    <tr>\n",
       "      <th>5305</th>\n",
       "      <td>United States</td>\n",
       "      <td>1989</td>\n",
       "      <td>12635.657</td>\n",
       "    </tr>\n",
       "  </tbody>\n",
       "</table>\n",
       "</div>"
      ],
      "text/plain": [
       "             Entity  Year  Per capita electricity (kWh)\n",
       "5301  United States  1985                     11048.449\n",
       "5302  United States  1986                     11023.556\n",
       "5303  United States  1987                     11312.686\n",
       "5304  United States  1988                     11781.619\n",
       "5305  United States  1989                     12635.657"
      ]
     },
     "execution_count": 51,
     "metadata": {},
     "output_type": "execute_result"
    }
   ],
   "source": [
    "US_electricity_consumption = data[data['Entity'] == 'United States']\n",
    "US_electricity_consumption.head()"
   ]
  },
  {
   "cell_type": "code",
   "execution_count": 52,
   "id": "227caa29",
   "metadata": {},
   "outputs": [
    {
     "data": {
      "image/png": "[encoded data removed]",
      "text/plain": [
       "<Figure size 720x504 with 1 Axes>"
      ]
     },
     "metadata": {
      "needs_background": "light"
     },
     "output_type": "display_data"
    }
   ],
   "source": [
    "plt.figure(figsize = (10,7))\n",
    "sns.barplot(x = 'Year', y = 'Per capita electricity (kWh)', hue = 'Entity', data = US_electricity_consumption)\n",
    "plt.xticks(rotation = 90)\n",
    "plt.title(\"US Electricity Consumption\")\n",
    "plt.show()"
   ]
  },
  {
   "cell_type": "code",
   "execution_count": 53,
   "id": "6fdab665",
   "metadata": {},
   "outputs": [
    {
     "data": {
      "image/png": "[encoded data removed]",
      "text/plain": [
       "<Figure size 432x288 with 1 Axes>"
      ]
     },
     "metadata": {
      "needs_background": "light"
     },
     "output_type": "display_data"
    }
   ],
   "source": [
    "plt.plot(data['Year'][data['Entity'] =='India'], data['Per capita electricity (kWh)'][data['Entity'] == \"India\"])\n",
    "plt.title(\"india_electricity_consumption\")\n",
    "plt.show()         "
   ]
  },
  {
   "cell_type": "code",
   "execution_count": 54,
   "id": "2252f018",
   "metadata": {},
   "outputs": [
    {
     "data": {
      "image/png": "[encoded data removed]",
      "text/plain": [
       "<Figure size 432x288 with 1 Axes>"
      ]
     },
     "metadata": {
      "needs_background": "light"
     },
     "output_type": "display_data"
    }
   ],
   "source": [
    "plt.plot(data['Year'][data['Entity'] =='China'], data['Per capita electricity (kWh)'][data['Entity'] == \"China\"])\n",
    "plt.title(\"China_electricity_consumption\")\n",
    "plt.show()         "
   ]
  },
  {
   "cell_type": "code",
   "execution_count": 55,
   "id": "5cdb4cbe",
   "metadata": {},
   "outputs": [
    {
     "data": {
      "image/png": "[encoded data removed]",
      "text/plain": [
       "<Figure size 432x288 with 1 Axes>"
      ]
     },
     "metadata": {
      "needs_background": "light"
     },
     "output_type": "display_data"
    }
   ],
   "source": [
    "plt.plot(data['Year'][data['Entity'] =='United States'], data['Per capita electricity (kWh)'][data['Entity'] == \"United States\"])\n",
    "plt.title(\"United States_electricity_consumption\")\n",
    "plt.show()         "
   ]
  },
  {
   "cell_type": "code",
   "execution_count": 56,
   "id": "6d8cc61a",
   "metadata": {},
   "outputs": [],
   "source": [
    "x = india_electricity_consumption.drop(['Per capita electricity (kWh)' , 'Entity'], axis=1)\n",
    "y = india_electricity_consumption['Per capita electricity (kWh)']"
   ]
  },
  {
   "cell_type": "code",
   "execution_count": 57,
   "id": "8633b394",
   "metadata": {},
   "outputs": [
    {
     "data": {
      "text/plain": [
       "(36, 1)"
      ]
     },
     "execution_count": 57,
     "metadata": {},
     "output_type": "execute_result"
    }
   ],
   "source": [
    "x.shape"
   ]
  },
  {
   "cell_type": "code",
   "execution_count": 58,
   "id": "ee194a0f",
   "metadata": {},
   "outputs": [
    {
     "data": {
      "text/plain": [
       "(36,)"
      ]
     },
     "execution_count": 58,
     "metadata": {},
     "output_type": "execute_result"
    }
   ],
   "source": [
    "y.shape"
   ]
  },
  {
   "cell_type": "code",
   "execution_count": 59,
   "id": "b0646e46",
   "metadata": {},
   "outputs": [],
   "source": [
    "from sklearn.linear_model import LinearRegression\n",
    "from sklearn.model_selection import train_test_split\n",
    "x_train, x_test , y_train , y_test = train_test_split( x , y , random_state =42)"
   ]
  },
  {
   "cell_type": "code",
   "execution_count": 60,
   "id": "23d47d68",
   "metadata": {},
   "outputs": [
    {
     "data": {
      "text/plain": [
       "LinearRegression()"
      ]
     },
     "execution_count": 60,
     "metadata": {},
     "output_type": "execute_result"
    }
   ],
   "source": [
    "model_india = LinearRegression()\n",
    "model_india.fit(x,y)"
   ]
  },
  {
   "cell_type": "code",
   "execution_count": 61,
   "id": "85ccc0f6",
   "metadata": {},
   "outputs": [
    {
     "name": "stdout",
     "output_type": "stream",
     "text": [
      "Coefficient: [21.11990232]\n",
      "intercept: -41723.12313899615\n"
     ]
    }
   ],
   "source": [
    "print(\"Coefficient:\",model_india.coef_)\n",
    "print(\"intercept:\", model_india.intercept_)\n",
    "pre = model_india.predict(x)"
   ]
  },
  {
   "cell_type": "code",
   "execution_count": 62,
   "id": "4c10b964",
   "metadata": {},
   "outputs": [
    {
     "data": {
      "image/png": "[encoded data removed]",
      "text/plain": [
       "<Figure size 576x432 with 1 Axes>"
      ]
     },
     "metadata": {
      "needs_background": "light"
     },
     "output_type": "display_data"
    }
   ],
   "source": [
    "plt.figure(figsize=(8,6))\n",
    "plt.scatter(x,y,label = 'Actual value')\n",
    "plt.plot(x,pre,color='g',label= 'Predicted value')\n",
    "plt.legend()\n",
    "plt.title(\"India\",color='r')\n",
    "plt.xlabel(\"Years\",color='r')\n",
    "plt.ylabel(\"Per capital electricity consumption(kWh)\", color='r')\n",
    "plt.tight_layout()\n",
    "plt.show()"
   ]
  },
  {
   "cell_type": "code",
   "execution_count": 63,
   "id": "a303057f",
   "metadata": {},
   "outputs": [],
   "source": [
    "import warnings\n",
    "warnings.filterwarnings(\"ignore\")"
   ]
  },
  {
   "cell_type": "code",
   "execution_count": 64,
   "id": "b39208d9",
   "metadata": {},
   "outputs": [
    {
     "name": "stdout",
     "output_type": "stream",
     "text": [
      "[960.19944286]\n",
      "[981.31934517]\n",
      "[1002.43924749]\n",
      "[1023.55914981]\n",
      "[1044.67905212]\n"
     ]
    }
   ],
   "source": [
    "years = [2021,2022,2023,2024,2025]\n",
    "for i in years:\n",
    "    print(model_india.predict([[i]]))"
   ]
  },
  {
   "cell_type": "code",
   "execution_count": 65,
   "id": "64aec901",
   "metadata": {},
   "outputs": [],
   "source": [
    "from sklearn.metrics import mean_squared_error"
   ]
  },
  {
   "cell_type": "code",
   "execution_count": 66,
   "id": "4c5e93a0",
   "metadata": {},
   "outputs": [
    {
     "name": "stdout",
     "output_type": "stream",
     "text": [
      "By function: 3107.0183018244293\n"
     ]
    }
   ],
   "source": [
    "print(\"By function:\",mean_squared_error(y,model_india.predict(x)))"
   ]
  },
  {
   "cell_type": "code",
   "execution_count": 73,
   "id": "d4b8dd25",
   "metadata": {},
   "outputs": [],
   "source": [
    "x = china_electricity_consumption.drop(['Per capita electricity (kWh)' , 'Entity'], axis=1)\n",
    "y = china_electricity_consumption['Per capita electricity (kWh)']"
   ]
  },
  {
   "cell_type": "code",
   "execution_count": 74,
   "id": "421f6ff8",
   "metadata": {},
   "outputs": [],
   "source": [
    "from sklearn.linear_model import LinearRegression\n",
    "from sklearn.model_selection import train_test_split\n",
    "x_train, x_test , y_train , y_test = train_test_split( x , y , random_state =42)"
   ]
  },
  {
   "cell_type": "code",
   "execution_count": 75,
   "id": "b70177ad",
   "metadata": {},
   "outputs": [
    {
     "data": {
      "text/plain": [
       "LinearRegression()"
      ]
     },
     "execution_count": 75,
     "metadata": {},
     "output_type": "execute_result"
    }
   ],
   "source": [
    "model_china = LinearRegression()\n",
    "model_china.fit(x,y)"
   ]
  },
  {
   "cell_type": "code",
   "execution_count": 76,
   "id": "d2dd7059",
   "metadata": {},
   "outputs": [
    {
     "name": "stdout",
     "output_type": "stream",
     "text": [
      "Coefficient: [144.66853256]\n",
      "intercept: -287644.1720647791\n"
     ]
    }
   ],
   "source": [
    "print(\"Coefficient:\",model_china.coef_)\n",
    "print(\"intercept:\", model_china.intercept_)\n",
    "pre = model_china.predict(x)"
   ]
  },
  {
   "cell_type": "code",
   "execution_count": 77,
   "id": "f2f86390",
   "metadata": {},
   "outputs": [
    {
     "data": {
      "image/png": "[encoded data removed]",
      "text/plain": [
       "<Figure size 576x432 with 1 Axes>"
      ]
     },
     "metadata": {
      "needs_background": "light"
     },
     "output_type": "display_data"
    }
   ],
   "source": [
    "plt.figure(figsize=(8,6))\n",
    "plt.scatter(x,y,label = 'Actual value')\n",
    "plt.plot(x,pre,color='g',label= 'Predicted value')\n",
    "plt.legend()\n",
    "plt.title(\"China\",color='r')\n",
    "plt.xlabel(\"Years\",color='r')\n",
    "plt.ylabel(\"Per capital electricity consumption(kWh)\", color='r')\n",
    "plt.tight_layout()\n",
    "plt.show()"
   ]
  },
  {
   "cell_type": "code",
   "execution_count": 78,
   "id": "9492e2a3",
   "metadata": {},
   "outputs": [],
   "source": [
    "import warnings\n",
    "warnings.filterwarnings(\"ignore\")"
   ]
  },
  {
   "cell_type": "code",
   "execution_count": 79,
   "id": "1b218ff7",
   "metadata": {},
   "outputs": [
    {
     "name": "stdout",
     "output_type": "stream",
     "text": [
      "[4730.93224127]\n",
      "[4875.60077383]\n",
      "[5020.26930639]\n",
      "[5164.93783895]\n",
      "[5309.60637151]\n"
     ]
    }
   ],
   "source": [
    "years = [2021,2022,2023,2024,2025]\n",
    "for i in years:\n",
    "    print(model_china.predict([[i]]))"
   ]
  },
  {
   "cell_type": "code",
   "execution_count": 80,
   "id": "3e078482",
   "metadata": {},
   "outputs": [
    {
     "name": "stdout",
     "output_type": "stream",
     "text": [
      "By function: 225359.50871213025\n"
     ]
    }
   ],
   "source": [
    "print(\"By function:\",mean_squared_error(y,model_china.predict(x)))"
   ]
  },
  {
   "cell_type": "code",
   "execution_count": 81,
   "id": "66278acc",
   "metadata": {},
   "outputs": [],
   "source": [
    "x = US_electricity_consumption.drop(['Per capita electricity (kWh)' , 'Entity'], axis=1)\n",
    "y = US_electricity_consumption['Per capita electricity (kWh)']"
   ]
  },
  {
   "cell_type": "code",
   "execution_count": 82,
   "id": "73a05f3e",
   "metadata": {},
   "outputs": [
    {
     "data": {
      "text/plain": [
       "(36, 1)"
      ]
     },
     "execution_count": 82,
     "metadata": {},
     "output_type": "execute_result"
    }
   ],
   "source": [
    "x.shape"
   ]
  },
  {
   "cell_type": "code",
   "execution_count": 83,
   "id": "8737583b",
   "metadata": {},
   "outputs": [
    {
     "data": {
      "text/plain": [
       "(36,)"
      ]
     },
     "execution_count": 83,
     "metadata": {},
     "output_type": "execute_result"
    }
   ],
   "source": [
    "y.shape"
   ]
  },
  {
   "cell_type": "code",
   "execution_count": 84,
   "id": "3f492384",
   "metadata": {},
   "outputs": [],
   "source": [
    "from sklearn.linear_model import LinearRegression\n",
    "from sklearn.model_selection import train_test_split\n",
    "x_train, x_test , y_train , y_test = train_test_split( x , y , random_state =42)"
   ]
  },
  {
   "cell_type": "code",
   "execution_count": 85,
   "id": "ad12f8ca",
   "metadata": {},
   "outputs": [
    {
     "data": {
      "text/plain": [
       "LinearRegression()"
      ]
     },
     "execution_count": 85,
     "metadata": {},
     "output_type": "execute_result"
    }
   ],
   "source": [
    "model_US =LinearRegression()\n",
    "model_US.fit(x,y)"
   ]
  },
  {
   "cell_type": "code",
   "execution_count": 86,
   "id": "c8796790",
   "metadata": {},
   "outputs": [
    {
     "name": "stdout",
     "output_type": "stream",
     "text": [
      "Coefficient: [18.66015328]\n",
      "intercept: -24394.77808580007\n"
     ]
    }
   ],
   "source": [
    "print(\"Coefficient:\",model_US.coef_)\n",
    "print(\"intercept:\", model_US.intercept_)\n",
    "pre = model_US.predict(x)"
   ]
  },
  {
   "cell_type": "code",
   "execution_count": 87,
   "id": "bd3f3fe1",
   "metadata": {},
   "outputs": [
    {
     "data": {
      "image/png": "[encoded data removed]",
      "text/plain": [
       "<Figure size 576x432 with 1 Axes>"
      ]
     },
     "metadata": {
      "needs_background": "light"
     },
     "output_type": "display_data"
    }
   ],
   "source": [
    "plt.figure(figsize=(8,6))\n",
    "plt.scatter(x,y,label = 'Actual value')\n",
    "plt.plot(x,pre,color='g',label= 'Predicted value')\n",
    "plt.legend()\n",
    "plt.title(\"US\",color='r')\n",
    "plt.xlabel(\"Years\",color='r')\n",
    "plt.ylabel(\"Per capital electricity consumption(kWh)\", color='r')\n",
    "plt.tight_layout()\n",
    "plt.show()"
   ]
  },
  {
   "cell_type": "code",
   "execution_count": 89,
   "id": "b887a7f5",
   "metadata": {},
   "outputs": [
    {
     "name": "stdout",
     "output_type": "stream",
     "text": [
      "[13317.39169683]\n",
      "[13336.05185011]\n",
      "[13354.71200339]\n",
      "[13373.37215667]\n",
      "[13392.03230995]\n"
     ]
    }
   ],
   "source": [
    "years = [2021,2022,2023,2024,2025]\n",
    "for i in years:\n",
    "    print(model_US.predict([[i]]))"
   ]
  },
  {
   "cell_type": "code",
   "execution_count": 90,
   "id": "124431fe",
   "metadata": {},
   "outputs": [
    {
     "name": "stdout",
     "output_type": "stream",
     "text": [
      "By function: 518207.581287751\n"
     ]
    }
   ],
   "source": [
    "print(\"By function:\",mean_squared_error(y,model_US.predict(x)))"
   ]
  },
  {
   "cell_type": "code",
   "execution_count": null,
   "id": "7ee7f0d1",
   "metadata": {},
   "outputs": [],
   "source": []
  }
 ],
 "metadata": {
  "kernelspec": {
   "display_name": "Python 3",
   "language": "python",
   "name": "python3"
  },
  "language_info": {
   "codemirror_mode": {
    "name": "ipython",
    "version": 3
   },
   "file_extension": ".py",
   "mimetype": "text/x-python",
   "name": "python",
   "nbconvert_exporter": "python",
   "pygments_lexer": "ipython3",
   "version": "3.8.8"
  }
 },
 "nbformat": 4,
 "nbformat_minor": 5
}
