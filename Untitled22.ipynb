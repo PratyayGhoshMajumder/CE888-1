{
 "cells": [
  {
   "cell_type": "code",
   "execution_count": 1,
   "id": "67e46a95",
   "metadata": {},
   "outputs": [],
   "source": [
    "def correlation(df, column1, column2):\n",
    "    # Your code here\n",
    "    return df.corr().loc[column1,column2]\n",
    "\n"
   ]
  },
  {
   "cell_type": "code",
   "execution_count": 2,
   "id": "3142d3d8",
   "metadata": {},
   "outputs": [],
   "source": [
    "def column_average(df, column):\n",
    "    return df[column].mean()\n"
   ]
  },
  {
   "cell_type": "code",
   "execution_count": 3,
   "id": "6befebc1",
   "metadata": {},
   "outputs": [],
   "source": [
    "from sklearn.preprocessing import StandardScaler\n",
    "from sklearn.decomposition import PCA\n",
    "\n",
    "\n",
    "def std_pca(df, var=0.5):\n",
    "    y = False\n",
    "    if 'y' in df.columns:\n",
    "        y = True\n",
    "        x = df.drop('y', axis=1, inplace=False)\n",
    "    else:\n",
    "        x = df.copy()\n",
    "    x_std = StandardScaler().fit_transform(x)\n",
    "    pca = PCA(n_components=var, random_state=100)\n",
    "    pca_data = pca.fit_transform(x_std)\n",
    "    #print(pca_data.shape)\n",
    "    if y:\n",
    "        return np.concatenate((pca_data, df['y'].values.reshape(-1, 1)), axis=1)\n",
    "    return pca_data\n",
    "    "
   ]
  },
  {
   "cell_type": "code",
   "execution_count": null,
   "id": "3d15e845",
   "metadata": {},
   "outputs": [],
   "source": []
  }
 ],
 "metadata": {
  "kernelspec": {
   "display_name": "Python 3",
   "language": "python",
   "name": "python3"
  },
  "language_info": {
   "codemirror_mode": {
    "name": "ipython",
    "version": 3
   },
   "file_extension": ".py",
   "mimetype": "text/x-python",
   "name": "python",
   "nbconvert_exporter": "python",
   "pygments_lexer": "ipython3",
   "version": "3.8.8"
  }
 },
 "nbformat": 4,
 "nbformat_minor": 5
}
